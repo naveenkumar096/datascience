{
 "cells": [
  {
   "cell_type": "code",
   "id": "initial_id",
   "metadata": {
    "collapsed": true,
    "ExecuteTime": {
     "end_time": "2025-04-10T10:51:36.997840Z",
     "start_time": "2025-04-10T10:51:36.993250Z"
    }
   },
   "source": [
    "import warnings\n",
    "warnings.filterwarnings('ignore')"
   ],
   "outputs": [],
   "execution_count": 25
  },
  {
   "metadata": {
    "ExecuteTime": {
     "end_time": "2025-04-10T09:56:25.561511Z",
     "start_time": "2025-04-10T09:56:25.555857Z"
    }
   },
   "cell_type": "code",
   "source": [
    "import pandas as pd\n",
    "import numpy as np"
   ],
   "id": "768f8f223673dcd3",
   "outputs": [],
   "execution_count": 2
  },
  {
   "metadata": {
    "ExecuteTime": {
     "end_time": "2025-04-10T09:58:57.738713Z",
     "start_time": "2025-04-10T09:58:57.652892Z"
    }
   },
   "cell_type": "code",
   "source": [
    "df = pd.read_csv(\"D:\\Data-science\\Alphabets_data.csv\")\n",
    "df.head()"
   ],
   "id": "14c36b99c5b66a5",
   "outputs": [
    {
     "data": {
      "text/plain": [
       "  letter  xbox  ybox  width  height  onpix  xbar  ybar  x2bar  y2bar  xybar  \\\n",
       "0      T     2     8      3       5      1     8    13      0      6      6   \n",
       "1      I     5    12      3       7      2    10     5      5      4     13   \n",
       "2      D     4    11      6       8      6    10     6      2      6     10   \n",
       "3      N     7    11      6       6      3     5     9      4      6      4   \n",
       "4      G     2     1      3       1      1     8     6      6      6      6   \n",
       "\n",
       "   x2ybar  xy2bar  xedge  xedgey  yedge  yedgex  \n",
       "0      10       8      0       8      0       8  \n",
       "1       3       9      2       8      4      10  \n",
       "2       3       7      3       7      3       9  \n",
       "3       4      10      6      10      2       8  \n",
       "4       5       9      1       7      5      10  "
      ],
      "text/html": [
       "<div>\n",
       "<style scoped>\n",
       "    .dataframe tbody tr th:only-of-type {\n",
       "        vertical-align: middle;\n",
       "    }\n",
       "\n",
       "    .dataframe tbody tr th {\n",
       "        vertical-align: top;\n",
       "    }\n",
       "\n",
       "    .dataframe thead th {\n",
       "        text-align: right;\n",
       "    }\n",
       "</style>\n",
       "<table border=\"1\" class=\"dataframe\">\n",
       "  <thead>\n",
       "    <tr style=\"text-align: right;\">\n",
       "      <th></th>\n",
       "      <th>letter</th>\n",
       "      <th>xbox</th>\n",
       "      <th>ybox</th>\n",
       "      <th>width</th>\n",
       "      <th>height</th>\n",
       "      <th>onpix</th>\n",
       "      <th>xbar</th>\n",
       "      <th>ybar</th>\n",
       "      <th>x2bar</th>\n",
       "      <th>y2bar</th>\n",
       "      <th>xybar</th>\n",
       "      <th>x2ybar</th>\n",
       "      <th>xy2bar</th>\n",
       "      <th>xedge</th>\n",
       "      <th>xedgey</th>\n",
       "      <th>yedge</th>\n",
       "      <th>yedgex</th>\n",
       "    </tr>\n",
       "  </thead>\n",
       "  <tbody>\n",
       "    <tr>\n",
       "      <th>0</th>\n",
       "      <td>T</td>\n",
       "      <td>2</td>\n",
       "      <td>8</td>\n",
       "      <td>3</td>\n",
       "      <td>5</td>\n",
       "      <td>1</td>\n",
       "      <td>8</td>\n",
       "      <td>13</td>\n",
       "      <td>0</td>\n",
       "      <td>6</td>\n",
       "      <td>6</td>\n",
       "      <td>10</td>\n",
       "      <td>8</td>\n",
       "      <td>0</td>\n",
       "      <td>8</td>\n",
       "      <td>0</td>\n",
       "      <td>8</td>\n",
       "    </tr>\n",
       "    <tr>\n",
       "      <th>1</th>\n",
       "      <td>I</td>\n",
       "      <td>5</td>\n",
       "      <td>12</td>\n",
       "      <td>3</td>\n",
       "      <td>7</td>\n",
       "      <td>2</td>\n",
       "      <td>10</td>\n",
       "      <td>5</td>\n",
       "      <td>5</td>\n",
       "      <td>4</td>\n",
       "      <td>13</td>\n",
       "      <td>3</td>\n",
       "      <td>9</td>\n",
       "      <td>2</td>\n",
       "      <td>8</td>\n",
       "      <td>4</td>\n",
       "      <td>10</td>\n",
       "    </tr>\n",
       "    <tr>\n",
       "      <th>2</th>\n",
       "      <td>D</td>\n",
       "      <td>4</td>\n",
       "      <td>11</td>\n",
       "      <td>6</td>\n",
       "      <td>8</td>\n",
       "      <td>6</td>\n",
       "      <td>10</td>\n",
       "      <td>6</td>\n",
       "      <td>2</td>\n",
       "      <td>6</td>\n",
       "      <td>10</td>\n",
       "      <td>3</td>\n",
       "      <td>7</td>\n",
       "      <td>3</td>\n",
       "      <td>7</td>\n",
       "      <td>3</td>\n",
       "      <td>9</td>\n",
       "    </tr>\n",
       "    <tr>\n",
       "      <th>3</th>\n",
       "      <td>N</td>\n",
       "      <td>7</td>\n",
       "      <td>11</td>\n",
       "      <td>6</td>\n",
       "      <td>6</td>\n",
       "      <td>3</td>\n",
       "      <td>5</td>\n",
       "      <td>9</td>\n",
       "      <td>4</td>\n",
       "      <td>6</td>\n",
       "      <td>4</td>\n",
       "      <td>4</td>\n",
       "      <td>10</td>\n",
       "      <td>6</td>\n",
       "      <td>10</td>\n",
       "      <td>2</td>\n",
       "      <td>8</td>\n",
       "    </tr>\n",
       "    <tr>\n",
       "      <th>4</th>\n",
       "      <td>G</td>\n",
       "      <td>2</td>\n",
       "      <td>1</td>\n",
       "      <td>3</td>\n",
       "      <td>1</td>\n",
       "      <td>1</td>\n",
       "      <td>8</td>\n",
       "      <td>6</td>\n",
       "      <td>6</td>\n",
       "      <td>6</td>\n",
       "      <td>6</td>\n",
       "      <td>5</td>\n",
       "      <td>9</td>\n",
       "      <td>1</td>\n",
       "      <td>7</td>\n",
       "      <td>5</td>\n",
       "      <td>10</td>\n",
       "    </tr>\n",
       "  </tbody>\n",
       "</table>\n",
       "</div>"
      ]
     },
     "execution_count": 5,
     "metadata": {},
     "output_type": "execute_result"
    }
   ],
   "execution_count": 5
  },
  {
   "metadata": {
    "ExecuteTime": {
     "end_time": "2025-04-10T09:59:00.274922Z",
     "start_time": "2025-04-10T09:59:00.242704Z"
    }
   },
   "cell_type": "code",
   "source": "df.info()",
   "id": "fd32e6aab3133308",
   "outputs": [
    {
     "name": "stdout",
     "output_type": "stream",
     "text": [
      "<class 'pandas.core.frame.DataFrame'>\n",
      "RangeIndex: 20000 entries, 0 to 19999\n",
      "Data columns (total 17 columns):\n",
      " #   Column  Non-Null Count  Dtype \n",
      "---  ------  --------------  ----- \n",
      " 0   letter  20000 non-null  object\n",
      " 1   xbox    20000 non-null  int64 \n",
      " 2   ybox    20000 non-null  int64 \n",
      " 3   width   20000 non-null  int64 \n",
      " 4   height  20000 non-null  int64 \n",
      " 5   onpix   20000 non-null  int64 \n",
      " 6   xbar    20000 non-null  int64 \n",
      " 7   ybar    20000 non-null  int64 \n",
      " 8   x2bar   20000 non-null  int64 \n",
      " 9   y2bar   20000 non-null  int64 \n",
      " 10  xybar   20000 non-null  int64 \n",
      " 11  x2ybar  20000 non-null  int64 \n",
      " 12  xy2bar  20000 non-null  int64 \n",
      " 13  xedge   20000 non-null  int64 \n",
      " 14  xedgey  20000 non-null  int64 \n",
      " 15  yedge   20000 non-null  int64 \n",
      " 16  yedgex  20000 non-null  int64 \n",
      "dtypes: int64(16), object(1)\n",
      "memory usage: 2.6+ MB\n"
     ]
    }
   ],
   "execution_count": 6
  },
  {
   "metadata": {
    "ExecuteTime": {
     "end_time": "2025-04-10T09:59:41.257427Z",
     "start_time": "2025-04-10T09:59:41.218296Z"
    }
   },
   "cell_type": "code",
   "source": [
    "df =df.drop_duplicates()\n",
    "df.shape"
   ],
   "id": "62cd68d73ae2c1e",
   "outputs": [
    {
     "data": {
      "text/plain": [
       "(18668, 17)"
      ]
     },
     "execution_count": 7,
     "metadata": {},
     "output_type": "execute_result"
    }
   ],
   "execution_count": 7
  },
  {
   "metadata": {
    "ExecuteTime": {
     "end_time": "2025-04-10T10:07:35.230620Z",
     "start_time": "2025-04-10T10:07:35.214735Z"
    }
   },
   "cell_type": "code",
   "source": "print(\"\\nClasses:\", df['letter'].unique())\n",
   "id": "6f7a1cf3beac33e7",
   "outputs": [
    {
     "name": "stdout",
     "output_type": "stream",
     "text": [
      "\n",
      "Classes: ['T' 'I' 'D' 'N' 'G' 'S' 'B' 'A' 'J' 'M' 'X' 'O' 'R' 'F' 'C' 'H' 'W' 'L'\n",
      " 'P' 'E' 'V' 'Y' 'Q' 'U' 'K' 'Z']\n"
     ]
    }
   ],
   "execution_count": 8
  },
  {
   "metadata": {
    "ExecuteTime": {
     "end_time": "2025-04-10T10:08:44.983410Z",
     "start_time": "2025-04-10T10:08:44.960245Z"
    }
   },
   "cell_type": "code",
   "source": [
    "from sklearn.preprocessing import LabelEncoder, StandardScaler\n",
    "\n",
    "le = LabelEncoder()\n",
    "df['letter'] = le.fit_transform(df['letter'])  # T=3, I=1, D=0, N=2 (example)\n",
    "\n",
    "# Features and labels\n",
    "X = df.drop('letter', axis=1)\n",
    "y = df['letter']"
   ],
   "id": "df56080d5561031a",
   "outputs": [],
   "execution_count": 9
  },
  {
   "metadata": {
    "ExecuteTime": {
     "end_time": "2025-04-10T10:14:59.661980Z",
     "start_time": "2025-04-10T10:14:59.651242Z"
    }
   },
   "cell_type": "code",
   "source": "print(df['letter'].unique())\n",
   "id": "acb77f723a7d0f72",
   "outputs": [
    {
     "name": "stdout",
     "output_type": "stream",
     "text": [
      "[19  8  3 13  6 18  1  0  9 12 23 14 17  5  2  7 22 11 15  4 21 24 16 20\n",
      " 10 25]\n"
     ]
    }
   ],
   "execution_count": 11
  },
  {
   "metadata": {
    "ExecuteTime": {
     "end_time": "2025-04-10T10:16:05.004234Z",
     "start_time": "2025-04-10T10:16:04.950759Z"
    }
   },
   "cell_type": "code",
   "source": [
    "from sklearn.model_selection import train_test_split\n",
    "X = df.drop('letter', axis=1)\n",
    "y = df['letter']\n",
    "\n",
    "# Since it's a tiny dataset, use stratified splitting\n",
    "X_train, X_test, y_train, y_test = train_test_split(\n",
    "    X, y, test_size=0.5, random_state=42, stratify=y)"
   ],
   "id": "c2131bdd0ba17a08",
   "outputs": [],
   "execution_count": 12
  },
  {
   "metadata": {
    "ExecuteTime": {
     "end_time": "2025-04-10T10:17:38.238898Z",
     "start_time": "2025-04-10T10:17:09.049469Z"
    }
   },
   "cell_type": "code",
   "source": [
    "import tensorflow as tf\n",
    "from tensorflow.keras.models import Sequential\n",
    "from tensorflow.keras.layers import Dense\n"
   ],
   "id": "d9358ddc437398a3",
   "outputs": [],
   "execution_count": 13
  },
  {
   "metadata": {
    "ExecuteTime": {
     "end_time": "2025-04-10T10:20:11.943949Z",
     "start_time": "2025-04-10T10:18:20.691385Z"
    }
   },
   "cell_type": "code",
   "source": [
    "model = Sequential([\n",
    "    Dense(16, activation='relu', input_shape=(X_train.shape[1],)),\n",
    "    Dense(8, activation='relu'),\n",
    "    Dense(26, activation='softmax')  # 26 classes\n",
    "])\n",
    "model.compile(optimizer='adam',\n",
    "              loss='sparse_categorical_crossentropy',\n",
    "              metrics=['accuracy'])\n",
    "\n",
    "# Train\n",
    "history = model.fit(X_train, y_train, epochs=50, verbose=1, validation_data=(X_test, y_test))\n"
   ],
   "id": "7d3a2f45f7182f3e",
   "outputs": [
    {
     "name": "stdout",
     "output_type": "stream",
     "text": [
      "Epoch 1/50\n",
      "\u001B[1m292/292\u001B[0m \u001B[32m━━━━━━━━━━━━━━━━━━━━\u001B[0m\u001B[37m\u001B[0m \u001B[1m7s\u001B[0m 11ms/step - accuracy: 0.0480 - loss: 4.5948 - val_accuracy: 0.1142 - val_loss: 3.0406\n",
      "Epoch 2/50\n",
      "\u001B[1m292/292\u001B[0m \u001B[32m━━━━━━━━━━━━━━━━━━━━\u001B[0m\u001B[37m\u001B[0m \u001B[1m3s\u001B[0m 9ms/step - accuracy: 0.1506 - loss: 2.9471 - val_accuracy: 0.2376 - val_loss: 2.6501\n",
      "Epoch 3/50\n",
      "\u001B[1m292/292\u001B[0m \u001B[32m━━━━━━━━━━━━━━━━━━━━\u001B[0m\u001B[37m\u001B[0m \u001B[1m3s\u001B[0m 10ms/step - accuracy: 0.2517 - loss: 2.5549 - val_accuracy: 0.3438 - val_loss: 2.2420\n",
      "Epoch 4/50\n",
      "\u001B[1m292/292\u001B[0m \u001B[32m━━━━━━━━━━━━━━━━━━━━\u001B[0m\u001B[37m\u001B[0m \u001B[1m3s\u001B[0m 8ms/step - accuracy: 0.3601 - loss: 2.1357 - val_accuracy: 0.4556 - val_loss: 1.8817\n",
      "Epoch 5/50\n",
      "\u001B[1m292/292\u001B[0m \u001B[32m━━━━━━━━━━━━━━━━━━━━\u001B[0m\u001B[37m\u001B[0m \u001B[1m3s\u001B[0m 9ms/step - accuracy: 0.4550 - loss: 1.8391 - val_accuracy: 0.5135 - val_loss: 1.7238\n",
      "Epoch 6/50\n",
      "\u001B[1m292/292\u001B[0m \u001B[32m━━━━━━━━━━━━━━━━━━━━\u001B[0m\u001B[37m\u001B[0m \u001B[1m2s\u001B[0m 8ms/step - accuracy: 0.5024 - loss: 1.7010 - val_accuracy: 0.5422 - val_loss: 1.6151\n",
      "Epoch 7/50\n",
      "\u001B[1m292/292\u001B[0m \u001B[32m━━━━━━━━━━━━━━━━━━━━\u001B[0m\u001B[37m\u001B[0m \u001B[1m3s\u001B[0m 8ms/step - accuracy: 0.5173 - loss: 1.6264 - val_accuracy: 0.5446 - val_loss: 1.5640\n",
      "Epoch 8/50\n",
      "\u001B[1m292/292\u001B[0m \u001B[32m━━━━━━━━━━━━━━━━━━━━\u001B[0m\u001B[37m\u001B[0m \u001B[1m2s\u001B[0m 8ms/step - accuracy: 0.5467 - loss: 1.5336 - val_accuracy: 0.5434 - val_loss: 1.5293\n",
      "Epoch 9/50\n",
      "\u001B[1m292/292\u001B[0m \u001B[32m━━━━━━━━━━━━━━━━━━━━\u001B[0m\u001B[37m\u001B[0m \u001B[1m2s\u001B[0m 8ms/step - accuracy: 0.5569 - loss: 1.5084 - val_accuracy: 0.5614 - val_loss: 1.4867\n",
      "Epoch 10/50\n",
      "\u001B[1m292/292\u001B[0m \u001B[32m━━━━━━━━━━━━━━━━━━━━\u001B[0m\u001B[37m\u001B[0m \u001B[1m2s\u001B[0m 8ms/step - accuracy: 0.5778 - loss: 1.4574 - val_accuracy: 0.5884 - val_loss: 1.4382\n",
      "Epoch 11/50\n",
      "\u001B[1m292/292\u001B[0m \u001B[32m━━━━━━━━━━━━━━━━━━━━\u001B[0m\u001B[37m\u001B[0m \u001B[1m2s\u001B[0m 7ms/step - accuracy: 0.5894 - loss: 1.4295 - val_accuracy: 0.5987 - val_loss: 1.4000\n",
      "Epoch 12/50\n",
      "\u001B[1m292/292\u001B[0m \u001B[32m━━━━━━━━━━━━━━━━━━━━\u001B[0m\u001B[37m\u001B[0m \u001B[1m2s\u001B[0m 7ms/step - accuracy: 0.5929 - loss: 1.4038 - val_accuracy: 0.5887 - val_loss: 1.3861\n",
      "Epoch 13/50\n",
      "\u001B[1m292/292\u001B[0m \u001B[32m━━━━━━━━━━━━━━━━━━━━\u001B[0m\u001B[37m\u001B[0m \u001B[1m2s\u001B[0m 7ms/step - accuracy: 0.6015 - loss: 1.3654 - val_accuracy: 0.5996 - val_loss: 1.3600\n",
      "Epoch 14/50\n",
      "\u001B[1m292/292\u001B[0m \u001B[32m━━━━━━━━━━━━━━━━━━━━\u001B[0m\u001B[37m\u001B[0m \u001B[1m2s\u001B[0m 7ms/step - accuracy: 0.6148 - loss: 1.3360 - val_accuracy: 0.6203 - val_loss: 1.3165\n",
      "Epoch 15/50\n",
      "\u001B[1m292/292\u001B[0m \u001B[32m━━━━━━━━━━━━━━━━━━━━\u001B[0m\u001B[37m\u001B[0m \u001B[1m2s\u001B[0m 7ms/step - accuracy: 0.6216 - loss: 1.3087 - val_accuracy: 0.6022 - val_loss: 1.3217\n",
      "Epoch 16/50\n",
      "\u001B[1m292/292\u001B[0m \u001B[32m━━━━━━━━━━━━━━━━━━━━\u001B[0m\u001B[37m\u001B[0m \u001B[1m2s\u001B[0m 7ms/step - accuracy: 0.6194 - loss: 1.3134 - val_accuracy: 0.6245 - val_loss: 1.2914\n",
      "Epoch 17/50\n",
      "\u001B[1m292/292\u001B[0m \u001B[32m━━━━━━━━━━━━━━━━━━━━\u001B[0m\u001B[37m\u001B[0m \u001B[1m2s\u001B[0m 7ms/step - accuracy: 0.6274 - loss: 1.2725 - val_accuracy: 0.6353 - val_loss: 1.2658\n",
      "Epoch 18/50\n",
      "\u001B[1m292/292\u001B[0m \u001B[32m━━━━━━━━━━━━━━━━━━━━\u001B[0m\u001B[37m\u001B[0m \u001B[1m2s\u001B[0m 7ms/step - accuracy: 0.6319 - loss: 1.2614 - val_accuracy: 0.6240 - val_loss: 1.2548\n",
      "Epoch 19/50\n",
      "\u001B[1m292/292\u001B[0m \u001B[32m━━━━━━━━━━━━━━━━━━━━\u001B[0m\u001B[37m\u001B[0m \u001B[1m2s\u001B[0m 7ms/step - accuracy: 0.6272 - loss: 1.2493 - val_accuracy: 0.6296 - val_loss: 1.2490\n",
      "Epoch 20/50\n",
      "\u001B[1m292/292\u001B[0m \u001B[32m━━━━━━━━━━━━━━━━━━━━\u001B[0m\u001B[37m\u001B[0m \u001B[1m2s\u001B[0m 6ms/step - accuracy: 0.6316 - loss: 1.2271 - val_accuracy: 0.6446 - val_loss: 1.2403\n",
      "Epoch 21/50\n",
      "\u001B[1m292/292\u001B[0m \u001B[32m━━━━━━━━━━━━━━━━━━━━\u001B[0m\u001B[37m\u001B[0m \u001B[1m2s\u001B[0m 6ms/step - accuracy: 0.6521 - loss: 1.1923 - val_accuracy: 0.6493 - val_loss: 1.2161\n",
      "Epoch 22/50\n",
      "\u001B[1m292/292\u001B[0m \u001B[32m━━━━━━━━━━━━━━━━━━━━\u001B[0m\u001B[37m\u001B[0m \u001B[1m2s\u001B[0m 6ms/step - accuracy: 0.6423 - loss: 1.2016 - val_accuracy: 0.6445 - val_loss: 1.1990\n",
      "Epoch 23/50\n",
      "\u001B[1m292/292\u001B[0m \u001B[32m━━━━━━━━━━━━━━━━━━━━\u001B[0m\u001B[37m\u001B[0m \u001B[1m2s\u001B[0m 6ms/step - accuracy: 0.6600 - loss: 1.1751 - val_accuracy: 0.6429 - val_loss: 1.1902\n",
      "Epoch 24/50\n",
      "\u001B[1m292/292\u001B[0m \u001B[32m━━━━━━━━━━━━━━━━━━━━\u001B[0m\u001B[37m\u001B[0m \u001B[1m2s\u001B[0m 7ms/step - accuracy: 0.6524 - loss: 1.1865 - val_accuracy: 0.6426 - val_loss: 1.2036\n",
      "Epoch 25/50\n",
      "\u001B[1m292/292\u001B[0m \u001B[32m━━━━━━━━━━━━━━━━━━━━\u001B[0m\u001B[37m\u001B[0m \u001B[1m2s\u001B[0m 7ms/step - accuracy: 0.6628 - loss: 1.1577 - val_accuracy: 0.6609 - val_loss: 1.1584\n",
      "Epoch 26/50\n",
      "\u001B[1m292/292\u001B[0m \u001B[32m━━━━━━━━━━━━━━━━━━━━\u001B[0m\u001B[37m\u001B[0m \u001B[1m2s\u001B[0m 7ms/step - accuracy: 0.6748 - loss: 1.1272 - val_accuracy: 0.6578 - val_loss: 1.1604\n",
      "Epoch 27/50\n",
      "\u001B[1m292/292\u001B[0m \u001B[32m━━━━━━━━━━━━━━━━━━━━\u001B[0m\u001B[37m\u001B[0m \u001B[1m2s\u001B[0m 7ms/step - accuracy: 0.6709 - loss: 1.1544 - val_accuracy: 0.6716 - val_loss: 1.1549\n",
      "Epoch 28/50\n",
      "\u001B[1m292/292\u001B[0m \u001B[32m━━━━━━━━━━━━━━━━━━━━\u001B[0m\u001B[37m\u001B[0m \u001B[1m2s\u001B[0m 7ms/step - accuracy: 0.6803 - loss: 1.1230 - val_accuracy: 0.6726 - val_loss: 1.1252\n",
      "Epoch 29/50\n",
      "\u001B[1m292/292\u001B[0m \u001B[32m━━━━━━━━━━━━━━━━━━━━\u001B[0m\u001B[37m\u001B[0m \u001B[1m2s\u001B[0m 7ms/step - accuracy: 0.6822 - loss: 1.1108 - val_accuracy: 0.6823 - val_loss: 1.1135\n",
      "Epoch 30/50\n",
      "\u001B[1m292/292\u001B[0m \u001B[32m━━━━━━━━━━━━━━━━━━━━\u001B[0m\u001B[37m\u001B[0m \u001B[1m2s\u001B[0m 7ms/step - accuracy: 0.6833 - loss: 1.1198 - val_accuracy: 0.6818 - val_loss: 1.1076\n",
      "Epoch 31/50\n",
      "\u001B[1m292/292\u001B[0m \u001B[32m━━━━━━━━━━━━━━━━━━━━\u001B[0m\u001B[37m\u001B[0m \u001B[1m2s\u001B[0m 7ms/step - accuracy: 0.6988 - loss: 1.0630 - val_accuracy: 0.6833 - val_loss: 1.0891\n",
      "Epoch 32/50\n",
      "\u001B[1m292/292\u001B[0m \u001B[32m━━━━━━━━━━━━━━━━━━━━\u001B[0m\u001B[37m\u001B[0m \u001B[1m3s\u001B[0m 8ms/step - accuracy: 0.6863 - loss: 1.1013 - val_accuracy: 0.6815 - val_loss: 1.1020\n",
      "Epoch 33/50\n",
      "\u001B[1m292/292\u001B[0m \u001B[32m━━━━━━━━━━━━━━━━━━━━\u001B[0m\u001B[37m\u001B[0m \u001B[1m2s\u001B[0m 7ms/step - accuracy: 0.6926 - loss: 1.0696 - val_accuracy: 0.6898 - val_loss: 1.0845\n",
      "Epoch 34/50\n",
      "\u001B[1m292/292\u001B[0m \u001B[32m━━━━━━━━━━━━━━━━━━━━\u001B[0m\u001B[37m\u001B[0m \u001B[1m2s\u001B[0m 6ms/step - accuracy: 0.6950 - loss: 1.0700 - val_accuracy: 0.6846 - val_loss: 1.0739\n",
      "Epoch 35/50\n",
      "\u001B[1m292/292\u001B[0m \u001B[32m━━━━━━━━━━━━━━━━━━━━\u001B[0m\u001B[37m\u001B[0m \u001B[1m2s\u001B[0m 6ms/step - accuracy: 0.6960 - loss: 1.0696 - val_accuracy: 0.6891 - val_loss: 1.0711\n",
      "Epoch 36/50\n",
      "\u001B[1m292/292\u001B[0m \u001B[32m━━━━━━━━━━━━━━━━━━━━\u001B[0m\u001B[37m\u001B[0m \u001B[1m2s\u001B[0m 6ms/step - accuracy: 0.7000 - loss: 1.0551 - val_accuracy: 0.6815 - val_loss: 1.0698\n",
      "Epoch 37/50\n",
      "\u001B[1m292/292\u001B[0m \u001B[32m━━━━━━━━━━━━━━━━━━━━\u001B[0m\u001B[37m\u001B[0m \u001B[1m2s\u001B[0m 7ms/step - accuracy: 0.7005 - loss: 1.0343 - val_accuracy: 0.6912 - val_loss: 1.0762\n",
      "Epoch 38/50\n",
      "\u001B[1m292/292\u001B[0m \u001B[32m━━━━━━━━━━━━━━━━━━━━\u001B[0m\u001B[37m\u001B[0m \u001B[1m2s\u001B[0m 6ms/step - accuracy: 0.7087 - loss: 1.0397 - val_accuracy: 0.7009 - val_loss: 1.0323\n",
      "Epoch 39/50\n",
      "\u001B[1m292/292\u001B[0m \u001B[32m━━━━━━━━━━━━━━━━━━━━\u001B[0m\u001B[37m\u001B[0m \u001B[1m2s\u001B[0m 6ms/step - accuracy: 0.6877 - loss: 1.0567 - val_accuracy: 0.7002 - val_loss: 1.0365\n",
      "Epoch 40/50\n",
      "\u001B[1m292/292\u001B[0m \u001B[32m━━━━━━━━━━━━━━━━━━━━\u001B[0m\u001B[37m\u001B[0m \u001B[1m2s\u001B[0m 7ms/step - accuracy: 0.6981 - loss: 1.0389 - val_accuracy: 0.6982 - val_loss: 1.0252\n",
      "Epoch 41/50\n",
      "\u001B[1m292/292\u001B[0m \u001B[32m━━━━━━━━━━━━━━━━━━━━\u001B[0m\u001B[37m\u001B[0m \u001B[1m2s\u001B[0m 7ms/step - accuracy: 0.7043 - loss: 1.0287 - val_accuracy: 0.6900 - val_loss: 1.0287\n",
      "Epoch 42/50\n",
      "\u001B[1m292/292\u001B[0m \u001B[32m━━━━━━━━━━━━━━━━━━━━\u001B[0m\u001B[37m\u001B[0m \u001B[1m2s\u001B[0m 7ms/step - accuracy: 0.7077 - loss: 1.0032 - val_accuracy: 0.6936 - val_loss: 1.0408\n",
      "Epoch 43/50\n",
      "\u001B[1m292/292\u001B[0m \u001B[32m━━━━━━━━━━━━━━━━━━━━\u001B[0m\u001B[37m\u001B[0m \u001B[1m2s\u001B[0m 6ms/step - accuracy: 0.7126 - loss: 0.9968 - val_accuracy: 0.7016 - val_loss: 1.0137\n",
      "Epoch 44/50\n",
      "\u001B[1m292/292\u001B[0m \u001B[32m━━━━━━━━━━━━━━━━━━━━\u001B[0m\u001B[37m\u001B[0m \u001B[1m2s\u001B[0m 6ms/step - accuracy: 0.7142 - loss: 0.9760 - val_accuracy: 0.7116 - val_loss: 1.0161\n",
      "Epoch 45/50\n",
      "\u001B[1m292/292\u001B[0m \u001B[32m━━━━━━━━━━━━━━━━━━━━\u001B[0m\u001B[37m\u001B[0m \u001B[1m2s\u001B[0m 7ms/step - accuracy: 0.7028 - loss: 1.0065 - val_accuracy: 0.7022 - val_loss: 1.0159\n",
      "Epoch 46/50\n",
      "\u001B[1m292/292\u001B[0m \u001B[32m━━━━━━━━━━━━━━━━━━━━\u001B[0m\u001B[37m\u001B[0m \u001B[1m2s\u001B[0m 6ms/step - accuracy: 0.7097 - loss: 0.9789 - val_accuracy: 0.7002 - val_loss: 1.0068\n",
      "Epoch 47/50\n",
      "\u001B[1m292/292\u001B[0m \u001B[32m━━━━━━━━━━━━━━━━━━━━\u001B[0m\u001B[37m\u001B[0m \u001B[1m2s\u001B[0m 6ms/step - accuracy: 0.7135 - loss: 0.9930 - val_accuracy: 0.6996 - val_loss: 1.0247\n",
      "Epoch 48/50\n",
      "\u001B[1m292/292\u001B[0m \u001B[32m━━━━━━━━━━━━━━━━━━━━\u001B[0m\u001B[37m\u001B[0m \u001B[1m2s\u001B[0m 7ms/step - accuracy: 0.7092 - loss: 0.9996 - val_accuracy: 0.6972 - val_loss: 1.0026\n",
      "Epoch 49/50\n",
      "\u001B[1m292/292\u001B[0m \u001B[32m━━━━━━━━━━━━━━━━━━━━\u001B[0m\u001B[37m\u001B[0m \u001B[1m2s\u001B[0m 7ms/step - accuracy: 0.7163 - loss: 0.9766 - val_accuracy: 0.7060 - val_loss: 0.9934\n",
      "Epoch 50/50\n",
      "\u001B[1m292/292\u001B[0m \u001B[32m━━━━━━━━━━━━━━━━━━━━\u001B[0m\u001B[37m\u001B[0m \u001B[1m2s\u001B[0m 7ms/step - accuracy: 0.7186 - loss: 0.9716 - val_accuracy: 0.7088 - val_loss: 0.9865\n"
     ]
    }
   ],
   "execution_count": 15
  },
  {
   "metadata": {
    "ExecuteTime": {
     "end_time": "2025-04-10T10:22:30.284513Z",
     "start_time": "2025-04-10T10:22:30.267013Z"
    }
   },
   "cell_type": "code",
   "source": "history",
   "id": "f9afb11fe0fed6c5",
   "outputs": [
    {
     "data": {
      "text/plain": [
       "<keras.src.callbacks.history.History at 0x29f23500d50>"
      ]
     },
     "execution_count": 16,
     "metadata": {},
     "output_type": "execute_result"
    }
   ],
   "execution_count": 16
  },
  {
   "metadata": {
    "ExecuteTime": {
     "end_time": "2025-04-10T10:25:43.261109Z",
     "start_time": "2025-04-10T10:25:43.253864Z"
    }
   },
   "cell_type": "code",
   "source": [
    "from tensorflow.keras.optimizers import Adam\n",
    "\n",
    "def build_model(hidden_layers=1, neurons=16, activation='relu', lr=0.001):\n",
    "    model = Sequential()\n",
    "    model.add(Dense(neurons, activation=activation, input_shape=(X_train.shape[1],)))\n",
    "    for _ in range(hidden_layers - 1):\n",
    "        model.add(Dense(neurons, activation=activation))\n",
    "    model.add(Dense(26, activation='softmax'))\n",
    "\n",
    "    model.compile(optimizer=Adam(learning_rate=lr),\n",
    "                  loss='sparse_categorical_crossentropy',\n",
    "                  metrics=['accuracy'])\n",
    "    return model"
   ],
   "id": "2284d7f3811a1b3a",
   "outputs": [],
   "execution_count": 19
  },
  {
   "metadata": {
    "ExecuteTime": {
     "end_time": "2025-04-10T10:27:07.443359Z",
     "start_time": "2025-04-10T10:25:46.689171Z"
    }
   },
   "cell_type": "code",
   "source": [
    "configs = [\n",
    "    {'hidden_layers': 1, 'neurons': 16, 'activation': 'relu', 'lr': 0.001},\n",
    "    {'hidden_layers': 2, 'neurons': 32, 'activation': 'tanh', 'lr': 0.01},\n",
    "    # Add more configs\n",
    "]\n",
    "\n",
    "for cfg in configs:\n",
    "    print(\"\\nTesting config:\", cfg)\n",
    "    model = build_model(**cfg)\n",
    "    model.fit(X_train, y_train, epochs=50, verbose=0)\n",
    "    loss, acc = model.evaluate(X_test, y_test)\n",
    "    print(f\"Accuracy: {acc:.2f}\")"
   ],
   "id": "302819248381ff64",
   "outputs": [
    {
     "name": "stdout",
     "output_type": "stream",
     "text": [
      "\n",
      "Testing config: {'hidden_layers': 1, 'neurons': 16, 'activation': 'relu', 'lr': 0.001}\n",
      "\u001B[1m292/292\u001B[0m \u001B[32m━━━━━━━━━━━━━━━━━━━━\u001B[0m\u001B[37m\u001B[0m \u001B[1m1s\u001B[0m 2ms/step - accuracy: 0.7849 - loss: 0.8066\n",
      "Accuracy: 0.77\n",
      "\n",
      "Testing config: {'hidden_layers': 2, 'neurons': 32, 'activation': 'tanh', 'lr': 0.01}\n",
      "\u001B[1m292/292\u001B[0m \u001B[32m━━━━━━━━━━━━━━━━━━━━\u001B[0m\u001B[37m\u001B[0m \u001B[1m1s\u001B[0m 3ms/step - accuracy: 0.7861 - loss: 0.7175\n",
      "Accuracy: 0.78\n"
     ]
    }
   ],
   "execution_count": 20
  },
  {
   "metadata": {
    "ExecuteTime": {
     "end_time": "2025-04-10T10:33:20.463063Z",
     "start_time": "2025-04-10T10:33:19.674473Z"
    }
   },
   "cell_type": "code",
   "source": [
    "from sklearn.metrics import classification_report, confusion_matrix\n",
    "\n",
    "# Predict\n",
    "y_pred = model.predict(X_test)\n",
    "y_pred_classes = y_pred.argmax(axis=1)\n",
    "\n",
    "# Metrics\n",
    "print(classification_report(y_test, y_pred_classes, target_names=le.classes_))\n",
    "print(\"Confusion Matrix:\\n\", confusion_matrix(y_test, y_pred_classes))"
   ],
   "id": "b66bc84c1dda8ac0",
   "outputs": [
    {
     "name": "stdout",
     "output_type": "stream",
     "text": [
      "\u001B[1m292/292\u001B[0m \u001B[32m━━━━━━━━━━━━━━━━━━━━\u001B[0m\u001B[37m\u001B[0m \u001B[1m0s\u001B[0m 1ms/step\n",
      "              precision    recall  f1-score   support\n",
      "\n",
      "           A       0.95      0.87      0.91       378\n",
      "           B       0.70      0.84      0.76       365\n",
      "           C       0.75      0.87      0.80       355\n",
      "           D       0.81      0.69      0.74       380\n",
      "           E       0.59      0.74      0.66       362\n",
      "           F       0.66      0.83      0.74       376\n",
      "           G       0.63      0.77      0.69       372\n",
      "           H       0.78      0.54      0.64       352\n",
      "           I       0.80      0.71      0.75       262\n",
      "           J       0.93      0.76      0.84       357\n",
      "           K       0.69      0.81      0.75       359\n",
      "           L       0.90      0.82      0.86       337\n",
      "           M       0.87      0.92      0.89       366\n",
      "           N       0.87      0.79      0.83       344\n",
      "           O       0.82      0.73      0.77       359\n",
      "           P       0.77      0.88      0.82       391\n",
      "           Q       0.95      0.56      0.70       380\n",
      "           R       0.74      0.65      0.69       369\n",
      "           S       0.67      0.76      0.71       364\n",
      "           T       0.80      0.77      0.79       374\n",
      "           U       0.84      0.84      0.84       384\n",
      "           V       0.84      0.84      0.84       353\n",
      "           W       0.90      0.90      0.90       363\n",
      "           X       0.79      0.72      0.75       339\n",
      "           Y       0.79      0.79      0.79       373\n",
      "           Z       0.74      0.84      0.78       320\n",
      "\n",
      "    accuracy                           0.78      9334\n",
      "   macro avg       0.79      0.78      0.78      9334\n",
      "weighted avg       0.79      0.78      0.78      9334\n",
      "\n",
      "Confusion Matrix:\n",
      " [[330   3   1   0   3   0   0   6   1   2   5   5   3   2   0   3   0   2\n",
      "    0   0   0   2   2   2   5   1]\n",
      " [  0 305   0   7   6   8   3   1   2   0   4   0   0   0   0   0   0   9\n",
      "   11   3   0   2   0   2   0   2]\n",
      " [  0   0 308   1   6   1  21   0   0   0   1   1   0   0   1   0   0   0\n",
      "    1   3  10   1   0   0   0   0]\n",
      " [  3  18   2 261   9   3   2   8   2   2   4   1   4   9   8   9   0   6\n",
      "    9   7   5   1   0   3   0   4]\n",
      " [  0   8  22   0 268   1  16   1   0   0   7   1   0   0   0   4   1   1\n",
      "    9   3   0   0   0   9   0  11]\n",
      " [  0   2   0   1   4 313   1   1   4   0   0   0   0   2   0  25   0   0\n",
      "    6   7   0   0   1   0   7   2]\n",
      " [  0   8  34   3  11   2 286   0   0   0   6   0   0   0   2   6   0   4\n",
      "    4   0   1   1   0   3   1   0]\n",
      " [  2  11   6  16   7  11   0 190   1   3  50   4   2   4   3   5   2  18\n",
      "    3   2   7   0   0   2   2   1]\n",
      " [  0   0   0   0   0  16   2   0 186   5   0   2   0   0   0   1   0   0\n",
      "   11   1   2   0   0  16   1  19]\n",
      " [  0   2   0   8   0  17   0   1  24 272   0   1   0   0   3   1   1   0\n",
      "    8   1   2   0   0   0   0  16]\n",
      " [  1   0   8   2  21   1   6   2   0   0 292   1   0   1   0   0   0  12\n",
      "    1   0   1   0   0   9   1   0]\n",
      " [  2   6   0   0   8   2   6   5   2   3   3 275   0   0   0   0   0   2\n",
      "   11   2   2   0   0   5   1   2]\n",
      " [  0   3   0   0   2   0   7   0   0   0   1   0 336   1   0   2   0   0\n",
      "    0   0   4   1   9   0   0   0]\n",
      " [  1   5   1   6   0   3   0   8   0   0   0   0  21 271   7   0   0   8\n",
      "    0   1   5   3   4   0   0   0]\n",
      " [  0   0   4   7   0   1  29   1   0   0   0   0   0   4 263  12   1  11\n",
      "    4   1  16   3   2   0   0   0]\n",
      " [  0   0   0   0   3  34   2   0   0   0   0   0   0   0   1 343   0   1\n",
      "    1   1   1   1   0   0   3   0]\n",
      " [  3   2   3   3  27   0  41   3   0   0   0   5   0   0  34   8 212   6\n",
      "   13   0   0   9   0   7   1   3]\n",
      " [  0  37   6   4  37   2   1   9   0   0  12   3   0   4   0   7   0 239\n",
      "    1   3   0   0   0   4   0   0]\n",
      " [  0  19   2   1   6  15   6   0   4   2   4   0   0   0   0   0   1   0\n",
      "  276   2   0   0   0   1   2  23]\n",
      " [  0   0   1   4   8  16   3   1   0   0   3   3   0   1   0   0   0   1\n",
      "    5 289   0   1   0   1  36   1]\n",
      " [  0   1  11   0   1   0   0   3   0   1   9   0  15   8   0   0   1   3\n",
      "    1   0 323   0   7   0   0   0]\n",
      " [  0   3   0   0   5   0  11   0   0   0   0   0   1   1   0  13   0   0\n",
      "    1   1   2 298  10   0   7   0]\n",
      " [  0   0   3   0   0   0  12   0   0   0   0   0   6   3   0   0   0   1\n",
      "    0   1   3   8 326   0   0   0]\n",
      " [  0   1   1   0   8   4   2   3   7   0  21   1   0   0   0   0   0   0\n",
      "   23   9   0   0   0 244   4  11]\n",
      " [  6   0   0   0   0  13   0   1   0   0   0   0   0   0   0   8   2   0\n",
      "    1  24   0  22   1   0 295   0]\n",
      " [  1   2   0   0  15   8   0   0   0   1   0   1   0   0   0   1   3   0\n",
      "   13   0   0   0   0   0   7 268]]\n"
     ]
    }
   ],
   "execution_count": 24
  }
 ],
 "metadata": {
  "kernelspec": {
   "display_name": "Python 3",
   "language": "python",
   "name": "python3"
  },
  "language_info": {
   "codemirror_mode": {
    "name": "ipython",
    "version": 2
   },
   "file_extension": ".py",
   "mimetype": "text/x-python",
   "name": "python",
   "nbconvert_exporter": "python",
   "pygments_lexer": "ipython2",
   "version": "2.7.6"
  }
 },
 "nbformat": 4,
 "nbformat_minor": 5
}
