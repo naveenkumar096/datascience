{
 "cells": [
  {
   "cell_type": "code",
   "id": "initial_id",
   "metadata": {
    "collapsed": true,
    "ExecuteTime": {
     "end_time": "2024-12-03T11:45:50.401882Z",
     "start_time": "2024-12-03T11:45:50.389751Z"
    }
   },
   "source": [
    "import scipy.stats as stats\n",
    "import numpy as np\n",
    "import math\n"
   ],
   "outputs": [],
   "execution_count": 16
  },
  {
   "metadata": {
    "ExecuteTime": {
     "end_time": "2024-12-03T11:13:12.885022Z",
     "start_time": "2024-12-03T11:13:12.876650Z"
    }
   },
   "cell_type": "code",
   "source": [
    "data = [1.13, 1.55, 1.43, 0.92, 1.25, 1.36, 1.32, 0.85, 1.07, 1.48, 1.20, 1.33, 1.18, 1.22, 1.29]\n",
    "n = len(data)\n",
    "n"
   ],
   "id": "976405995275e4e3",
   "outputs": [
    {
     "data": {
      "text/plain": [
       "15"
      ]
     },
     "execution_count": 3,
     "metadata": {},
     "output_type": "execute_result"
    }
   ],
   "execution_count": 3
  },
  {
   "metadata": {
    "ExecuteTime": {
     "end_time": "2024-12-03T11:47:26.099189Z",
     "start_time": "2024-12-03T11:47:26.093913Z"
    }
   },
   "cell_type": "code",
   "source": [
    "df_mean = np.mean(data)\n",
    "sample_std = math.sqrt(sum([(x-df_mean)**2 for x in data])/(n-1))\n",
    "print(sample_std)"
   ],
   "id": "5aeb4135225be585",
   "outputs": [
    {
     "name": "stdout",
     "output_type": "stream",
     "text": [
      "0.19316412956959936\n"
     ]
    }
   ],
   "execution_count": 18
  },
  {
   "metadata": {
    "ExecuteTime": {
     "end_time": "2024-12-03T11:50:19.070345Z",
     "start_time": "2024-12-03T11:50:19.034687Z"
    }
   },
   "cell_type": "code",
   "source": [
    "#99% confidence interval using sample standard deviation (t-distribution)\n",
    "confidence_level = 0.99\n",
    "alpha = 1-confidence_level\n",
    "t_value = stats.t.ppf(1 - alpha, len(data)-1)\n",
    "t_value"
   ],
   "id": "2331c6e0a31f75b1",
   "outputs": [
    {
     "data": {
      "text/plain": [
       "np.float64(2.624494067560231)"
      ]
     },
     "execution_count": 19,
     "metadata": {},
     "output_type": "execute_result"
    }
   ],
   "execution_count": 19
  },
  {
   "metadata": {
    "ExecuteTime": {
     "end_time": "2024-12-03T11:56:05.176734Z",
     "start_time": "2024-12-03T11:56:05.168796Z"
    }
   },
   "cell_type": "code",
   "source": [
    "#standard error\n",
    "se1 = sample_std / math.sqrt(n)\n",
    "\n",
    "#Margin error\n",
    "me = t_value * se1\n",
    "\n",
    "print(se1,me)\n",
    "# Confidence interval using sample standard deviation\n",
    "ci_sample_sd = (df_mean - me, df_mean + me)\n",
    "ci_sample_sd"
   ],
   "id": "dbd769261fd203fe",
   "outputs": [
    {
     "name": "stdout",
     "output_type": "stream",
     "text": [
      "0.04987476379384733 0.04987476379384733 0.1308960216979201\n"
     ]
    },
    {
     "data": {
      "text/plain": [
       "(np.float64(1.1077706449687466), np.float64(1.3695626883645866))"
      ]
     },
     "execution_count": 25,
     "metadata": {},
     "output_type": "execute_result"
    }
   ],
   "execution_count": 25
  },
  {
   "metadata": {
    "ExecuteTime": {
     "end_time": "2024-12-03T12:21:12.374795Z",
     "start_time": "2024-12-03T12:21:12.363726Z"
    }
   },
   "cell_type": "code",
   "source": [
    "#99% confidence interval using known population standard deviation\n",
    "population_std = 0.2\n",
    "z_value = stats.norm.ppf(1- alpha / 2)\n",
    "\n",
    "margin_error_population = z_value * (population_std / np.sqrt(n))\n",
    "\n",
    "# Confidence interval using known population standard deviation\n",
    "confidence_interval_population = (df_mean - margin_error_population, df_mean + margin_error_population)\n",
    "\n",
    "\n",
    "print(z_value,margin_error_population,confidence_interval_population)"
   ],
   "id": "53fc1ef42fcfe1cf",
   "outputs": [
    {
     "name": "stdout",
     "output_type": "stream",
     "text": [
      "2.5758293035489004 0.13301525327090588 (np.float64(1.1056514133957607), np.float64(1.3716819199375725))\n"
     ]
    }
   ],
   "execution_count": 28
  },
  {
   "metadata": {
    "ExecuteTime": {
     "end_time": "2024-12-03T12:23:28.478665Z",
     "start_time": "2024-12-03T12:23:28.471277Z"
    }
   },
   "cell_type": "code",
   "source": [
    "#summary\n",
    "print(f'99% Confidence Interval using sample standard deviation (t-distribution): {ci_sample_sd}')\n",
    "print(f'99% Confidence Interval using known population standard deviation (z-distribution): {confidence_interval_population}')"
   ],
   "id": "b926c21a8849c28c",
   "outputs": [
    {
     "name": "stdout",
     "output_type": "stream",
     "text": [
      "99% Confidence Interval using sample standard deviation (t-distribution): (np.float64(1.1077706449687466), np.float64(1.3695626883645866))\n",
      "99% Confidence Interval using known population standard deviation (z-distribution): (np.float64(1.1056514133957607), np.float64(1.3716819199375725))\n"
     ]
    }
   ],
   "execution_count": 29
  }
 ],
 "metadata": {
  "kernelspec": {
   "display_name": "Python 3",
   "language": "python",
   "name": "python3"
  },
  "language_info": {
   "codemirror_mode": {
    "name": "ipython",
    "version": 2
   },
   "file_extension": ".py",
   "mimetype": "text/x-python",
   "name": "python",
   "nbconvert_exporter": "python",
   "pygments_lexer": "ipython2",
   "version": "2.7.6"
  }
 },
 "nbformat": 4,
 "nbformat_minor": 5
}
