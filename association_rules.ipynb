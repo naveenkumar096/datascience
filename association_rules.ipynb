{
 "cells": [
  {
   "cell_type": "code",
   "id": "initial_id",
   "metadata": {
    "collapsed": true,
    "ExecuteTime": {
     "end_time": "2025-02-07T16:21:36.971728Z",
     "start_time": "2025-02-07T16:21:36.966547Z"
    }
   },
   "source": [
    "import numpy as np\n",
    "import matplotlib.pyplot as plt\n",
    "import pandas as pd\n"
   ],
   "outputs": [],
   "execution_count": 135
  },
  {
   "metadata": {
    "ExecuteTime": {
     "end_time": "2025-02-07T16:37:49.644262Z",
     "start_time": "2025-02-07T16:37:49.404260Z"
    }
   },
   "cell_type": "code",
   "source": "data = pd.read_excel('D:\\\\Data-science\\\\Online_retail.xlsx',sheet_name='Sheet1',names=['Product'],header=None)",
   "id": "d74648e3a3b6a720",
   "outputs": [],
   "execution_count": 175
  },
  {
   "metadata": {
    "ExecuteTime": {
     "end_time": "2025-02-07T16:37:50.868674Z",
     "start_time": "2025-02-07T16:37:50.858412Z"
    }
   },
   "cell_type": "code",
   "source": "data",
   "id": "3b037cef23c6eaac",
   "outputs": [
    {
     "data": {
      "text/plain": [
       "                                                                                                                                                                                                                              Product\n",
       "0     shrimp,almonds,avocado,vegetables mix,green grapes,whole weat flour,yams,cottage cheese,energy drink,tomato juice,low fat yogurt,green tea,honey,salad,mineral water,salmon,antioxydant juice,frozen smoothie,spinach,olive oil\n",
       "1                                                                                                                                                                                                              burgers,meatballs,eggs\n",
       "2                                                                                                                                                                                                                             chutney\n",
       "3                                                                                                                                                                                                                      turkey,avocado\n",
       "4                                                                                                                                                                            mineral water,milk,energy bar,whole wheat rice,green tea\n",
       "...                                                                                                                                                                                                                               ...\n",
       "7496                                                                                                                                                                                                    butter,light mayo,fresh bread\n",
       "7497                                                                                                                                                                  burgers,frozen vegetables,eggs,french fries,magazines,green tea\n",
       "7498                                                                                                                                                                                                                          chicken\n",
       "7499                                                                                                                                                                                                               escalope,green tea\n",
       "7500                                                                                                                                                                                  eggs,frozen smoothie,yogurt cake,low fat yogurt\n",
       "\n",
       "[7501 rows x 1 columns]"
      ],
      "text/html": [
       "<div>\n",
       "<style scoped>\n",
       "    .dataframe tbody tr th:only-of-type {\n",
       "        vertical-align: middle;\n",
       "    }\n",
       "\n",
       "    .dataframe tbody tr th {\n",
       "        vertical-align: top;\n",
       "    }\n",
       "\n",
       "    .dataframe thead th {\n",
       "        text-align: right;\n",
       "    }\n",
       "</style>\n",
       "<table border=\"1\" class=\"dataframe\">\n",
       "  <thead>\n",
       "    <tr style=\"text-align: right;\">\n",
       "      <th></th>\n",
       "      <th>Product</th>\n",
       "    </tr>\n",
       "  </thead>\n",
       "  <tbody>\n",
       "    <tr>\n",
       "      <th>0</th>\n",
       "      <td>shrimp,almonds,avocado,vegetables mix,green grapes,whole weat flour,yams,cottage cheese,energy drink,tomato juice,low fat yogurt,green tea,honey,salad,mineral water,salmon,antioxydant juice,frozen smoothie,spinach,olive oil</td>\n",
       "    </tr>\n",
       "    <tr>\n",
       "      <th>1</th>\n",
       "      <td>burgers,meatballs,eggs</td>\n",
       "    </tr>\n",
       "    <tr>\n",
       "      <th>2</th>\n",
       "      <td>chutney</td>\n",
       "    </tr>\n",
       "    <tr>\n",
       "      <th>3</th>\n",
       "      <td>turkey,avocado</td>\n",
       "    </tr>\n",
       "    <tr>\n",
       "      <th>4</th>\n",
       "      <td>mineral water,milk,energy bar,whole wheat rice,green tea</td>\n",
       "    </tr>\n",
       "    <tr>\n",
       "      <th>...</th>\n",
       "      <td>...</td>\n",
       "    </tr>\n",
       "    <tr>\n",
       "      <th>7496</th>\n",
       "      <td>butter,light mayo,fresh bread</td>\n",
       "    </tr>\n",
       "    <tr>\n",
       "      <th>7497</th>\n",
       "      <td>burgers,frozen vegetables,eggs,french fries,magazines,green tea</td>\n",
       "    </tr>\n",
       "    <tr>\n",
       "      <th>7498</th>\n",
       "      <td>chicken</td>\n",
       "    </tr>\n",
       "    <tr>\n",
       "      <th>7499</th>\n",
       "      <td>escalope,green tea</td>\n",
       "    </tr>\n",
       "    <tr>\n",
       "      <th>7500</th>\n",
       "      <td>eggs,frozen smoothie,yogurt cake,low fat yogurt</td>\n",
       "    </tr>\n",
       "  </tbody>\n",
       "</table>\n",
       "<p>7501 rows × 1 columns</p>\n",
       "</div>"
      ]
     },
     "execution_count": 176,
     "metadata": {},
     "output_type": "execute_result"
    }
   ],
   "execution_count": 176
  },
  {
   "metadata": {
    "ExecuteTime": {
     "end_time": "2025-02-07T16:35:16.747320Z",
     "start_time": "2025-02-07T16:35:16.345122Z"
    }
   },
   "cell_type": "code",
   "source": [
    "new_data = []\n",
    "columns = set()\n",
    "columns_list = []\n",
    "for index, row in data.iterrows():\n",
    "    row_1 = row.iloc[0].strip().split(\",\")\n",
    "    columns = columns.union(row_1)\n",
    "    new_data.append(row_1) \n",
    "len(sorted(columns))"
   ],
   "id": "2e5cfc01199f5cd5",
   "outputs": [
    {
     "data": {
      "text/plain": [
       "119"
      ]
     },
     "execution_count": 164,
     "metadata": {},
     "output_type": "execute_result"
    }
   ],
   "execution_count": 164
  },
  {
   "metadata": {
    "ExecuteTime": {
     "end_time": "2025-02-07T16:35:20.905139Z",
     "start_time": "2025-02-07T16:35:20.159756Z"
    }
   },
   "cell_type": "code",
   "source": [
    "df = pd.DataFrame(0, index=range(len(new_data)), columns=sorted(columns))\n",
    "for idx, row in enumerate(new_data):\n",
    "    for food in row:\n",
    "        if food in df.columns:\n",
    "            df.at[idx, food] = 1"
   ],
   "id": "51fd9e3b1672a39f",
   "outputs": [],
   "execution_count": 165
  },
  {
   "metadata": {
    "ExecuteTime": {
     "end_time": "2025-02-07T16:35:22.854792Z",
     "start_time": "2025-02-07T16:35:22.840150Z"
    }
   },
   "cell_type": "code",
   "source": "df.values",
   "id": "e914ee9bc771ffda",
   "outputs": [
    {
     "data": {
      "text/plain": [
       "array([[1, 1, 0, ..., 1, 0, 0],\n",
       "       [0, 0, 0, ..., 0, 0, 0],\n",
       "       [0, 0, 0, ..., 0, 0, 0],\n",
       "       ...,\n",
       "       [0, 0, 0, ..., 0, 0, 0],\n",
       "       [0, 0, 0, ..., 0, 0, 0],\n",
       "       [0, 0, 0, ..., 0, 1, 0]])"
      ]
     },
     "execution_count": 166,
     "metadata": {},
     "output_type": "execute_result"
    }
   ],
   "execution_count": 166
  },
  {
   "metadata": {
    "ExecuteTime": {
     "end_time": "2025-02-07T16:35:29.286474Z",
     "start_time": "2025-02-07T16:35:29.282192Z"
    }
   },
   "cell_type": "code",
   "source": "from mlxtend.frequent_patterns import apriori, association_rules",
   "id": "2017006a100fa86f",
   "outputs": [],
   "execution_count": 167
  },
  {
   "metadata": {
    "ExecuteTime": {
     "end_time": "2025-02-07T16:36:10.998372Z",
     "start_time": "2025-02-07T16:36:10.973989Z"
    }
   },
   "cell_type": "code",
   "source": [
    "frequent_itemsets = apriori(df, min_support=0.1, use_colnames=True)\n",
    "rules = association_rules(frequent_itemsets, metric=\"confidence\",min_threshold=0.1)\n",
    "print(frequent_itemsets)\n",
    "print(rules)\n"
   ],
   "id": "8f20a70739eadb67",
   "outputs": [
    {
     "name": "stdout",
     "output_type": "stream",
     "text": [
      "    support         itemsets\n",
      "0  0.163845      (chocolate)\n",
      "1  0.179709           (eggs)\n",
      "2  0.170911   (french fries)\n",
      "3  0.132116      (green tea)\n",
      "4  0.129583           (milk)\n",
      "5  0.238368  (mineral water)\n",
      "6  0.174110      (spaghetti)\n",
      "Empty DataFrame\n",
      "Columns: [antecedents, consequents, antecedent support, consequent support, support, confidence, lift, leverage, conviction, zhangs_metric]\n",
      "Index: []\n"
     ]
    },
    {
     "name": "stderr",
     "output_type": "stream",
     "text": [
      "C:\\Users\\naveen.julla\\AppData\\Local\\anaconda3\\Lib\\site-packages\\mlxtend\\frequent_patterns\\fpcommon.py:109: DeprecationWarning: DataFrames with non-bool types result in worse computationalperformance and their support might be discontinued in the future.Please use a DataFrame with bool type\n",
      "  warnings.warn(\n"
     ]
    }
   ],
   "execution_count": 169
  }
 ],
 "metadata": {
  "kernelspec": {
   "display_name": "Python 3",
   "language": "python",
   "name": "python3"
  },
  "language_info": {
   "codemirror_mode": {
    "name": "ipython",
    "version": 2
   },
   "file_extension": ".py",
   "mimetype": "text/x-python",
   "name": "python",
   "nbconvert_exporter": "python",
   "pygments_lexer": "ipython2",
   "version": "2.7.6"
  }
 },
 "nbformat": 4,
 "nbformat_minor": 5
}
