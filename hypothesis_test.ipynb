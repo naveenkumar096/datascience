{
 "cells": [
  {
   "cell_type": "code",
   "id": "initial_id",
   "metadata": {
    "collapsed": true,
    "ExecuteTime": {
     "end_time": "2024-11-28T13:55:07.139735Z",
     "start_time": "2024-11-28T13:55:07.119552Z"
    }
   },
   "source": [
    "import scipy.stats as stats\n",
    "import math\n"
   ],
   "outputs": [],
   "execution_count": 4
  },
  {
   "metadata": {},
   "cell_type": "markdown",
   "source": [
    "Null Hypothesis: The observed weekly operating costs are equal to or less than the predicted costs, i.e., the restaurant owners’ claim is not true.\n",
    "Alternative Hypothesis: The observed weekly operating costs are higher than the predicted costs."
   ],
   "id": "7330e1e5e8c2b10a"
  },
  {
   "metadata": {
    "ExecuteTime": {
     "end_time": "2024-11-28T13:54:56.040742Z",
     "start_time": "2024-11-28T13:54:56.035504Z"
    }
   },
   "cell_type": "code",
   "source": [
    "# Given data\n",
    "sample_mean = 3050  # Sample mean cost (Rs. 3050)\n",
    "population_mean = 4000  # Theoretical mean cost (Rs. 4000)\n",
    "std_dev_units = 25  # Standard deviation of units produced\n",
    "std_cost = 5 * std_dev_units  # Standard deviation of cost\n",
    "n = 25  # Sample size"
   ],
   "id": "f4ff656fe3cdd679",
   "outputs": [],
   "execution_count": 2
  },
  {
   "metadata": {
    "ExecuteTime": {
     "end_time": "2024-11-28T13:57:34.501904Z",
     "start_time": "2024-11-28T13:57:34.491426Z"
    }
   },
   "cell_type": "code",
   "source": [
    "t_stat = (sample_mean - population_mean) / (std_cost / math.sqrt(n))\n",
    "t_stat"
   ],
   "id": "7620e61c5a862d56",
   "outputs": [
    {
     "data": {
      "text/plain": [
       "-38.0"
      ]
     },
     "execution_count": 6,
     "metadata": {},
     "output_type": "execute_result"
    }
   ],
   "execution_count": 6
  },
  {
   "metadata": {
    "ExecuteTime": {
     "end_time": "2024-11-28T15:07:33.566379Z",
     "start_time": "2024-11-28T15:07:33.554499Z"
    }
   },
   "cell_type": "code",
   "source": [
    "alpha = 0.05\n",
    "z_critical = stats.norm.ppf(1 - alpha)  # For a one-tailed test\n",
    "z_critical"
   ],
   "id": "1403188b6c184944",
   "outputs": [
    {
     "data": {
      "text/plain": [
       "np.float64(1.6448536269514722)"
      ]
     },
     "execution_count": 7,
     "metadata": {},
     "output_type": "execute_result"
    }
   ],
   "execution_count": 7
  },
  {
   "metadata": {
    "ExecuteTime": {
     "end_time": "2024-11-28T15:08:51.260606Z",
     "start_time": "2024-11-28T15:08:51.251Z"
    }
   },
   "cell_type": "code",
   "source": [
    "if t_stat > z_critical:\n",
    "    result = \"Reject: The observed weekly operating costs are higher than the predicted costs.\"\n",
    "else:\n",
    "    result = \"Fail to reject: There is no significant evidence to suggest the costs are higher.\"\n",
    "result"
   ],
   "id": "a3508c9f45da2fa3",
   "outputs": [
    {
     "data": {
      "text/plain": [
       "'Fail to reject: There is no significant evidence to suggest the costs are higher.'"
      ]
     },
     "execution_count": 9,
     "metadata": {},
     "output_type": "execute_result"
    }
   ],
   "execution_count": 9
  },
  {
   "metadata": {
    "ExecuteTime": {
     "end_time": "2024-11-28T15:10:38.266860Z",
     "start_time": "2024-11-28T15:10:38.260266Z"
    }
   },
   "cell_type": "code",
   "source": [
    "print(\"Calculated t-statistic: \", t_stat)\n",
    "print(\"Critical value :\",z_critical)\n",
    "print(result)"
   ],
   "id": "198aa028508f8010",
   "outputs": [
    {
     "name": "stdout",
     "output_type": "stream",
     "text": [
      "Calculated t-statistic:  -38.0\n",
      "Critical value : 1.6448536269514722\n",
      "Fail to reject: There is no significant evidence to suggest the costs are higher.\n"
     ]
    }
   ],
   "execution_count": 10
  }
 ],
 "metadata": {
  "kernelspec": {
   "display_name": "Python 3",
   "language": "python",
   "name": "python3"
  },
  "language_info": {
   "codemirror_mode": {
    "name": "ipython",
    "version": 2
   },
   "file_extension": ".py",
   "mimetype": "text/x-python",
   "name": "python",
   "nbconvert_exporter": "python",
   "pygments_lexer": "ipython2",
   "version": "2.7.6"
  }
 },
 "nbformat": 4,
 "nbformat_minor": 5
}
