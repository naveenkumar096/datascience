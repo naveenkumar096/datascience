{
 "cells": [
  {
   "metadata": {},
   "cell_type": "markdown",
   "source": "#### Prime number",
   "id": "32536dad7e7a39"
  },
  {
   "cell_type": "code",
   "id": "initial_id",
   "metadata": {
    "collapsed": true,
    "ExecuteTime": {
     "end_time": "2024-11-28T08:26:47.606925Z",
     "start_time": "2024-11-28T08:26:47.599960Z"
    }
   },
   "source": [
    "def prime_numbers(n):\n",
    "    if n<=1:\n",
    "     return False\n",
    "    \n",
    "    for i in range(2,int(n**0.5)+1):\n",
    "        if i%n == 0:\n",
    "            return False\n",
    "        \n",
    "    return True\n",
    "\n",
    "number = 11\n",
    "if prime_numbers(number):\n",
    "    print(number,\" is a prime number\")\n",
    "else:\n",
    "    print(number,\" is not a prime number\")\n",
    "        "
   ],
   "outputs": [
    {
     "name": "stdout",
     "output_type": "stream",
     "text": [
      "11  is a prime number\n"
     ]
    }
   ],
   "execution_count": 2
  },
  {
   "metadata": {},
   "cell_type": "markdown",
   "source": "Develop a Python program that generates two random numbers and asks the user to enter the product of these numbers. The program should then check if the user's answer is correct and display an appropriate message.",
   "id": "59a3f1ce0d1512cc"
  },
  {
   "metadata": {
    "ExecuteTime": {
     "end_time": "2024-11-28T08:41:08.067607Z",
     "start_time": "2024-11-28T08:40:53.140287Z"
    }
   },
   "cell_type": "code",
   "source": [
    "import random\n",
    "def ask_product():\n",
    "    num1 = random.randint(1,10)\n",
    "    num2 = random.randint(1,10)\n",
    "    \n",
    "    corrent_ans = num1*num2\n",
    "    user_ans = int(input(f\"What is the product of {num1} and {num2}? \"))\n",
    "    \n",
    "    if user_ans == corrent_ans:\n",
    "        print(\"Correct! Well done.\")\n",
    "    else:\n",
    "        print(f\"Oops! The correct answer is {corrent_ans}.\")\n",
    "        \n",
    "ask_product()\n",
    "    "
   ],
   "id": "55af9e88eec80392",
   "outputs": [
    {
     "name": "stdout",
     "output_type": "stream",
     "text": [
      "Oops! The correct answer is 8.\n"
     ]
    }
   ],
   "execution_count": 4
  },
  {
   "metadata": {},
   "cell_type": "markdown",
   "source": "Create a Python script that prints the squares of all even or odd numbers within the range of 100 to 200. Choose either even or odd numbers and document your choice in the code.",
   "id": "14203eb0a124e3d3"
  },
  {
   "metadata": {
    "ExecuteTime": {
     "end_time": "2024-11-28T08:49:55.733206Z",
     "start_time": "2024-11-28T08:49:55.726081Z"
    }
   },
   "cell_type": "code",
   "source": [
    "def df_squre():\n",
    "    for num in range(100,200):\n",
    "        square = num ** 2\n",
    "        if num % 2 == 0:  # Check if the number is even\n",
    "         print(f\"The even square of {num} is {square}\")\n",
    "        else:\n",
    "         print(f\"The even square of {num} is {square}\")\n",
    "\n",
    "df_squre()\n",
    "        \n",
    "        "
   ],
   "id": "97d5eb4eaa0d30c7",
   "outputs": [
    {
     "name": "stdout",
     "output_type": "stream",
     "text": [
      "The even square of 100 is 10000\n",
      "The even square of 101 is 10201\n",
      "The even square of 102 is 10404\n",
      "The even square of 103 is 10609\n",
      "The even square of 104 is 10816\n",
      "The even square of 105 is 11025\n",
      "The even square of 106 is 11236\n",
      "The even square of 107 is 11449\n",
      "The even square of 108 is 11664\n",
      "The even square of 109 is 11881\n",
      "The even square of 110 is 12100\n",
      "The even square of 111 is 12321\n",
      "The even square of 112 is 12544\n",
      "The even square of 113 is 12769\n",
      "The even square of 114 is 12996\n",
      "The even square of 115 is 13225\n",
      "The even square of 116 is 13456\n",
      "The even square of 117 is 13689\n",
      "The even square of 118 is 13924\n",
      "The even square of 119 is 14161\n",
      "The even square of 120 is 14400\n",
      "The even square of 121 is 14641\n",
      "The even square of 122 is 14884\n",
      "The even square of 123 is 15129\n",
      "The even square of 124 is 15376\n",
      "The even square of 125 is 15625\n",
      "The even square of 126 is 15876\n",
      "The even square of 127 is 16129\n",
      "The even square of 128 is 16384\n",
      "The even square of 129 is 16641\n",
      "The even square of 130 is 16900\n",
      "The even square of 131 is 17161\n",
      "The even square of 132 is 17424\n",
      "The even square of 133 is 17689\n",
      "The even square of 134 is 17956\n",
      "The even square of 135 is 18225\n",
      "The even square of 136 is 18496\n",
      "The even square of 137 is 18769\n",
      "The even square of 138 is 19044\n",
      "The even square of 139 is 19321\n",
      "The even square of 140 is 19600\n",
      "The even square of 141 is 19881\n",
      "The even square of 142 is 20164\n",
      "The even square of 143 is 20449\n",
      "The even square of 144 is 20736\n",
      "The even square of 145 is 21025\n",
      "The even square of 146 is 21316\n",
      "The even square of 147 is 21609\n",
      "The even square of 148 is 21904\n",
      "The even square of 149 is 22201\n",
      "The even square of 150 is 22500\n",
      "The even square of 151 is 22801\n",
      "The even square of 152 is 23104\n",
      "The even square of 153 is 23409\n",
      "The even square of 154 is 23716\n",
      "The even square of 155 is 24025\n",
      "The even square of 156 is 24336\n",
      "The even square of 157 is 24649\n",
      "The even square of 158 is 24964\n",
      "The even square of 159 is 25281\n",
      "The even square of 160 is 25600\n",
      "The even square of 161 is 25921\n",
      "The even square of 162 is 26244\n",
      "The even square of 163 is 26569\n",
      "The even square of 164 is 26896\n",
      "The even square of 165 is 27225\n",
      "The even square of 166 is 27556\n",
      "The even square of 167 is 27889\n",
      "The even square of 168 is 28224\n",
      "The even square of 169 is 28561\n",
      "The even square of 170 is 28900\n",
      "The even square of 171 is 29241\n",
      "The even square of 172 is 29584\n",
      "The even square of 173 is 29929\n",
      "The even square of 174 is 30276\n",
      "The even square of 175 is 30625\n",
      "The even square of 176 is 30976\n",
      "The even square of 177 is 31329\n",
      "The even square of 178 is 31684\n",
      "The even square of 179 is 32041\n",
      "The even square of 180 is 32400\n",
      "The even square of 181 is 32761\n",
      "The even square of 182 is 33124\n",
      "The even square of 183 is 33489\n",
      "The even square of 184 is 33856\n",
      "The even square of 185 is 34225\n",
      "The even square of 186 is 34596\n",
      "The even square of 187 is 34969\n",
      "The even square of 188 is 35344\n",
      "The even square of 189 is 35721\n",
      "The even square of 190 is 36100\n",
      "The even square of 191 is 36481\n",
      "The even square of 192 is 36864\n",
      "The even square of 193 is 37249\n",
      "The even square of 194 is 37636\n",
      "The even square of 195 is 38025\n",
      "The even square of 196 is 38416\n",
      "The even square of 197 is 38809\n",
      "The even square of 198 is 39204\n",
      "The even square of 199 is 39601\n"
     ]
    }
   ],
   "execution_count": 7
  },
  {
   "metadata": {},
   "cell_type": "markdown",
   "source": "write a program to count the number of words in a given text.",
   "id": "82aa29108899ae97"
  },
  {
   "metadata": {
    "ExecuteTime": {
     "end_time": "2024-11-28T09:02:50.522479Z",
     "start_time": "2024-11-28T09:02:50.512849Z"
    }
   },
   "cell_type": "code",
   "source": [
    "input_text = \"This is a sample text. This text will be used to demonstrate the word counter.\"\n",
    "split_text = input_text.split(\" \")\n",
    "print(split_text)\n",
    "map = {}\n",
    "for word in split_text:\n",
    "    if word in map:\n",
    "     map[word] = map[word]+1\n",
    "    else:\n",
    "     map[word] = 1\n",
    "map     \n"
   ],
   "id": "387efbf93fc76732",
   "outputs": [
    {
     "name": "stdout",
     "output_type": "stream",
     "text": [
      "['This', 'is', 'a', 'sample', 'text.', 'This', 'text', 'will', 'be', 'used', 'to', 'demonstrate', 'the', 'word', 'counter.']\n"
     ]
    },
    {
     "data": {
      "text/plain": [
       "{'This': 2,\n",
       " 'is': 1,\n",
       " 'a': 1,\n",
       " 'sample': 1,\n",
       " 'text.': 1,\n",
       " 'text': 1,\n",
       " 'will': 1,\n",
       " 'be': 1,\n",
       " 'used': 1,\n",
       " 'to': 1,\n",
       " 'demonstrate': 1,\n",
       " 'the': 1,\n",
       " 'word': 1,\n",
       " 'counter.': 1}"
      ]
     },
     "execution_count": 13,
     "metadata": {},
     "output_type": "execute_result"
    }
   ],
   "execution_count": 13
  },
  {
   "metadata": {},
   "cell_type": "markdown",
   "source": "Check for Palindrome",
   "id": "75584b6ce061b159"
  },
  {
   "metadata": {
    "ExecuteTime": {
     "end_time": "2024-11-28T09:10:03.817687Z",
     "start_time": "2024-11-28T09:10:00.950906Z"
    }
   },
   "cell_type": "code",
   "source": [
    "def is_palindrome(s):\n",
    " s = s.replace(\" \",\"\").lower()\n",
    " return s == s[::-1]\n",
    "\n",
    "input_string = input(\"Enter a string: \")\n",
    "if is_palindrome(input_string):\n",
    " print(f\"{input_string} is a palindrome\")\n",
    "else:\n",
    " print(f\"{input_string} is not a palindrome\")"
   ],
   "id": "f54844f5ccc22534",
   "outputs": [
    {
     "name": "stdout",
     "output_type": "stream",
     "text": [
      "racecar is a palindrome\n"
     ]
    }
   ],
   "execution_count": 15
  }
 ],
 "metadata": {
  "kernelspec": {
   "display_name": "Python 3",
   "language": "python",
   "name": "python3"
  },
  "language_info": {
   "codemirror_mode": {
    "name": "ipython",
    "version": 2
   },
   "file_extension": ".py",
   "mimetype": "text/x-python",
   "name": "python",
   "nbconvert_exporter": "python",
   "pygments_lexer": "ipython2",
   "version": "2.7.6"
  }
 },
 "nbformat": 4,
 "nbformat_minor": 5
}
