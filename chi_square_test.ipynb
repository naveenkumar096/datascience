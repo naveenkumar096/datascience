{
 "cells": [
  {
   "metadata": {},
   "cell_type": "markdown",
   "source": "### Chi-Square test",
   "id": "7de8fa838cd20e8b"
  },
  {
   "cell_type": "code",
   "id": "initial_id",
   "metadata": {
    "collapsed": true,
    "ExecuteTime": {
     "end_time": "2024-11-28T12:51:29.221188Z",
     "start_time": "2024-11-28T12:51:29.216809Z"
    }
   },
   "source": [
    "import pandas as pd\n",
    "import numpy as np\n",
    "from scipy import stats\n",
    "from scipy.stats import chi2_contingency\n",
    "from scipy.stats import chi2\n"
   ],
   "outputs": [],
   "execution_count": 23
  },
  {
   "metadata": {
    "ExecuteTime": {
     "end_time": "2024-11-28T13:21:28.839339Z",
     "start_time": "2024-11-28T13:21:28.826298Z"
    }
   },
   "cell_type": "code",
   "source": [
    "stat_result = pd.DataFrame([[50,80,60,30,20],[70,100,90,50,50]],index=[\"Smart Thermostat\",\"Smart Thermostat\"],\n",
    "                           columns=[\"Very Satisfied\",\"Satisfied\",\"Neutral\",\"Unsatisfied\",\"Very Unsatisfied\"])\n",
    "stat_result"
   ],
   "id": "2985959bf5f533ad",
   "outputs": [
    {
     "data": {
      "text/plain": [
       "                  Very Satisfied  Satisfied  Neutral  Unsatisfied  \\\n",
       "Smart Thermostat              50         80       60           30   \n",
       "Smart Thermostat              70        100       90           50   \n",
       "\n",
       "                  Very Unsatisfied  \n",
       "Smart Thermostat                20  \n",
       "Smart Thermostat                50  "
      ],
      "text/html": [
       "<div>\n",
       "<style scoped>\n",
       "    .dataframe tbody tr th:only-of-type {\n",
       "        vertical-align: middle;\n",
       "    }\n",
       "\n",
       "    .dataframe tbody tr th {\n",
       "        vertical-align: top;\n",
       "    }\n",
       "\n",
       "    .dataframe thead th {\n",
       "        text-align: right;\n",
       "    }\n",
       "</style>\n",
       "<table border=\"1\" class=\"dataframe\">\n",
       "  <thead>\n",
       "    <tr style=\"text-align: right;\">\n",
       "      <th></th>\n",
       "      <th>Very Satisfied</th>\n",
       "      <th>Satisfied</th>\n",
       "      <th>Neutral</th>\n",
       "      <th>Unsatisfied</th>\n",
       "      <th>Very Unsatisfied</th>\n",
       "    </tr>\n",
       "  </thead>\n",
       "  <tbody>\n",
       "    <tr>\n",
       "      <th>Smart Thermostat</th>\n",
       "      <td>50</td>\n",
       "      <td>80</td>\n",
       "      <td>60</td>\n",
       "      <td>30</td>\n",
       "      <td>20</td>\n",
       "    </tr>\n",
       "    <tr>\n",
       "      <th>Smart Thermostat</th>\n",
       "      <td>70</td>\n",
       "      <td>100</td>\n",
       "      <td>90</td>\n",
       "      <td>50</td>\n",
       "      <td>50</td>\n",
       "    </tr>\n",
       "  </tbody>\n",
       "</table>\n",
       "</div>"
      ]
     },
     "execution_count": 35,
     "metadata": {},
     "output_type": "execute_result"
    }
   ],
   "execution_count": 35
  },
  {
   "metadata": {},
   "cell_type": "markdown",
   "source": [
    "Alternative Hypothesis: There is no association between smart home devices & satisfaction level\n",
    "\n",
    "Null Hypothesis: There is a statistically significant association between smart home devices & satisfaction level\n"
   ],
   "id": "8aaf578e99b5e4b0"
  },
  {
   "metadata": {
    "ExecuteTime": {
     "end_time": "2024-11-28T13:26:14.961809Z",
     "start_time": "2024-11-28T13:26:14.953127Z"
    }
   },
   "cell_type": "code",
   "source": [
    "# Perform the Chi-squared test\n",
    "chi2, p, dof, expected = chi2_contingency(stat_result)\n",
    "# Print results\n",
    "print(f\"Chi2: {chi2}\")\n",
    "print(f\"P-value: {p}\")\n",
    "print(f\"Degrees of Freedom: {dof}\")\n",
    "print(f\"Expected Frequencies: \\n{expected}\")\n",
    "if p < 0.05:\n",
    "    print('Null Hypothesis: There is a statistically significant association between smart home devices & satisfaction level')\n",
    "else:\n",
    "   print('Alternative Hypothesis: There is no association between smart home devices & satisfaction level')  "
   ],
   "id": "17cc955613fe2739",
   "outputs": [
    {
     "name": "stdout",
     "output_type": "stream",
     "text": [
      "Chi2: 5.638227513227513\n",
      "P-value: 0.22784371130697179\n",
      "Degrees of Freedom: 4\n",
      "Expected Frequencies: \n",
      "[[ 48.  72.  60.  32.  28.]\n",
      " [ 72. 108.  90.  48.  42.]]\n",
      "Alternative Hypothesis: There is no association between smart home devices & satisfaction level\n"
     ]
    }
   ],
   "execution_count": 38
  }
 ],
 "metadata": {
  "kernelspec": {
   "display_name": "Python 3",
   "language": "python",
   "name": "python3"
  },
  "language_info": {
   "codemirror_mode": {
    "name": "ipython",
    "version": 2
   },
   "file_extension": ".py",
   "mimetype": "text/x-python",
   "name": "python",
   "nbconvert_exporter": "python",
   "pygments_lexer": "ipython2",
   "version": "2.7.6"
  }
 },
 "nbformat": 4,
 "nbformat_minor": 5
}
